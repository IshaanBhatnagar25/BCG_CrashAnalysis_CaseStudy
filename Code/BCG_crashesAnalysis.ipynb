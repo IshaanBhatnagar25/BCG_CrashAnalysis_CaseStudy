{
 "cells": [
  {
   "cell_type": "code",
   "execution_count": 2,
   "metadata": {},
   "outputs": [],
   "source": [
    "import findspark\n",
    "findspark.init()"
   ]
  },
  {
   "cell_type": "code",
   "execution_count": 4,
   "metadata": {},
   "outputs": [],
   "source": [
    "import pyspark\n",
    "from pyspark.sql import SparkSession\n",
    "\n",
    "\n",
    "#Creating the Spark Session:\n",
    "spark = SparkSession.builder.appName(\"CrashesAnalysis\").getOrCreate()"
   ]
  },
  {
   "cell_type": "code",
   "execution_count": 8,
   "metadata": {},
   "outputs": [],
   "source": [
    "#Reading the CSVs in DataFrames\n",
    "df_charges = spark.read.csv(\"/home/ishaan25/Documents/BGC_UseCase/Data/Charges_use.csv\",header=True)\n",
    "df_damages = spark.read.csv(\"/home/ishaan25/Documents/BGC_UseCase/Data/Damages_use.csv\",header=True)\n",
    "df_endorse = spark.read.csv(\"/home/ishaan25/Documents/BGC_UseCase/Data/Endorse_use.csv\",header=True)\n",
    "df_primary_person = spark.read.csv(\"/home/ishaan25/Documents/BGC_UseCase/Data/Primary_Person_use.csv\",header=True)\n",
    "df_restrict = spark.read.csv(\"/home/ishaan25/Documents/BGC_UseCase/Data/Restrict_use.csv\",header=True)\n",
    "df_units = spark.read.csv(\"/home/ishaan25/Documents/BGC_UseCase/Data/Units_use.csv\",header=True)"
   ]
  },
  {
   "cell_type": "code",
   "execution_count": 190,
   "metadata": {},
   "outputs": [
    {
     "name": "stdout",
     "output_type": "stream",
     "text": [
      "+--------+--------+--------+----------------------------------------+------------+\n",
      "|CRASH_ID|UNIT_NBR|PRSN_NBR|CHARGE                                  |CITATION_NBR|\n",
      "+--------+--------+--------+----------------------------------------+------------+\n",
      "|14768622|1       |1       |DRIVING WHILE INTOXICATED               |null        |\n",
      "|14838637|1       |1       |DWI                                     |1600000015  |\n",
      "|14838641|1       |1       |RAN RED LIGHT SOLID (TC 544.007)        |L20440      |\n",
      "|14838641|2       |1       |NO DRIVER'S LICENSE (TC521.025)         |L23141      |\n",
      "|14838668|1       |1       |DRIVING WHILE INTOXICATED               |TX4IC50SRJD3|\n",
      "|14838669|2       |1       |DWI W/BAC >.015                         |2015-000006 |\n",
      "|14838670|1       |1       |DRIVING WHILE INTOXICATED               |2016-000003 |\n",
      "|14838685|1       |1       |FAILED TO DRIVE SINGLE LANE, NOL, NO INS|138434825   |\n",
      "|14838693|1       |1       |DRIVING WHILE INTOXICATED               |TX4IC60UKQND|\n",
      "|14838768|2       |1       |DWI                                     |null        |\n",
      "+--------+--------+--------+----------------------------------------+------------+\n",
      "only showing top 10 rows\n",
      "\n"
     ]
    }
   ],
   "source": [
    "df_charges.show(10,False)\n",
    "#df_charges.where(\"charge like '%SPEED%'\").select(F.col('CHARGE')).distinct().show(50,False)"
   ]
  },
  {
   "cell_type": "code",
   "execution_count": 9,
   "metadata": {},
   "outputs": [
    {
     "name": "stdout",
     "output_type": "stream",
     "text": [
      "+--------+---------------------------------+\n",
      "|CRASH_ID|DAMAGED_PROPERTY                 |\n",
      "+--------+---------------------------------+\n",
      "|14768622|MAILBOX                          |\n",
      "|14768622|YARD, GRASS                      |\n",
      "|14838668|GUARDRAIL                        |\n",
      "|14838685|ROAD SIGN                        |\n",
      "|14838693|2009 MAZDA 3                     |\n",
      "|14838834|CHAIN LINK FENCE                 |\n",
      "|14838841|WOODED POLE ON SOUTH SIDE OF LOOP|\n",
      "|14838842|CITY SIGN FOR TURN LANES         |\n",
      "|14838877|FENCE-CHAIN LINK                 |\n",
      "|14838977|LANDSCAPING AND METAL SIGN       |\n",
      "+--------+---------------------------------+\n",
      "only showing top 10 rows\n",
      "\n"
     ]
    }
   ],
   "source": [
    "df_damages.show(10,False)"
   ]
  },
  {
   "cell_type": "code",
   "execution_count": 191,
   "metadata": {},
   "outputs": [
    {
     "name": "stdout",
     "output_type": "stream",
     "text": [
      "+-------------------------------------+\n",
      "|DRVR_LIC_ENDORS_ID                   |\n",
      "+-------------------------------------+\n",
      "|SCHOOL BUS                           |\n",
      "|OTHER/OUT OF STATE                   |\n",
      "|UNKNOWN                              |\n",
      "|HAZARDOUS MATERIALS                  |\n",
      "|UNLICENSED                           |\n",
      "|TANK VEHICLE                         |\n",
      "|NONE                                 |\n",
      "|TANK VEHICLE WITH HAZARDOUS MATERIALS|\n",
      "|PASSENGER                            |\n",
      "|DOUBLE/TRIPLE TRAILER                |\n",
      "+-------------------------------------+\n",
      "\n"
     ]
    }
   ],
   "source": [
    "df_endorse.select(F.col('DRVR_LIC_ENDORS_ID')).distinct().show(100,False)\n",
    "#df_endorse.select(F.col('crash_id')).distinct().count()"
   ]
  },
  {
   "cell_type": "code",
   "execution_count": 189,
   "metadata": {},
   "outputs": [
    {
     "name": "stdout",
     "output_type": "stream",
     "text": [
      "+--------+--------+--------+------------+------------------+-----------------+--------+-----------------+------------+------------+-------------------+-----------------+--------------+-----------+---------------------+----------------+------------------+---------------------+----------------+-----------------+---------------+---------------+------------------+--------------+-------------+--------------+-------------+---------+----------------+-----------------+------------------+--------+\n",
      "|CRASH_ID|UNIT_NBR|PRSN_NBR|PRSN_TYPE_ID|PRSN_OCCPNT_POS_ID|PRSN_INJRY_SEV_ID|PRSN_AGE|PRSN_ETHNICITY_ID|PRSN_GNDR_ID|PRSN_EJCT_ID|PRSN_REST_ID       |PRSN_AIRBAG_ID   |PRSN_HELMET_ID|PRSN_SOL_FL|PRSN_ALC_SPEC_TYPE_ID|PRSN_ALC_RSLT_ID|PRSN_BAC_TEST_RSLT|PRSN_DRG_SPEC_TYPE_ID|PRSN_DRG_RSLT_ID|DRVR_DRG_CAT_1_ID|PRSN_DEATH_TIME|INCAP_INJRY_CNT|NONINCAP_INJRY_CNT|POSS_INJRY_CNT|NON_INJRY_CNT|UNKN_INJRY_CNT|TOT_INJRY_CNT|DEATH_CNT|DRVR_LIC_TYPE_ID|DRVR_LIC_STATE_ID|DRVR_LIC_CLS_ID   |DRVR_ZIP|\n",
      "+--------+--------+--------+------------+------------------+-----------------+--------+-----------------+------------+------------+-------------------+-----------------+--------------+-----------+---------------------+----------------+------------------+---------------------+----------------+-----------------+---------------+---------------+------------------+--------------+-------------+--------------+-------------+---------+----------------+-----------------+------------------+--------+\n",
      "|14768622|1       |1       |DRIVER      |FRONT LEFT        |NOT INJURED      |27      |HISPANIC         |MALE        |NO          |NONE               |DEPLOYED MULTIPLE|NOT APPLICABLE|N          |BLOOD                |Positive        |0.225             |NONE                 |NOT APPLICABLE  |NOT APPLICABLE   |null           |0              |0                 |0             |1            |0             |0            |0        |DRIVER LICENSE  |Texas            |CLASS C           |77357   |\n",
      "|14838637|1       |1       |DRIVER      |FRONT LEFT        |NOT INJURED      |31      |WHITE            |MALE        |NO          |SHOULDER & LAP BELT|NOT DEPLOYED     |NOT APPLICABLE|N          |BREATH               |Positive        |0.21              |NONE                 |NOT APPLICABLE  |NOT APPLICABLE   |null           |0              |0                 |0             |1            |0             |0            |0        |DRIVER LICENSE  |New York         |OTHER/OUT OF STATE|13830   |\n",
      "+--------+--------+--------+------------+------------------+-----------------+--------+-----------------+------------+------------+-------------------+-----------------+--------------+-----------+---------------------+----------------+------------------+---------------------+----------------+-----------------+---------------+---------------+------------------+--------------+-------------+--------------+-------------+---------+----------------+-----------------+------------------+--------+\n",
      "only showing top 2 rows\n",
      "\n"
     ]
    }
   ],
   "source": [
    "df_primary_person.show(2,False)\n",
    "#df_primary_person.select(F.col('crash_id')).distinct().count()"
   ]
  },
  {
   "cell_type": "code",
   "execution_count": 167,
   "metadata": {},
   "outputs": [
    {
     "name": "stdout",
     "output_type": "stream",
     "text": [
      "+--------+--------+----------------------+\n",
      "|CRASH_ID|UNIT_NBR|DRVR_LIC_RESTRIC_ID   |\n",
      "+--------+--------+----------------------+\n",
      "|14768622|1       |NONE                  |\n",
      "|14838637|1       |OTHER/OUT OF STATE    |\n",
      "|14838637|2       |NONE                  |\n",
      "|14838641|1       |WITH CORRECTIVE LENSES|\n",
      "|14838641|2       |UNLICENSED            |\n",
      "|14838668|1       |NONE                  |\n",
      "|14838669|1       |NONE                  |\n",
      "|14838669|2       |WITH CORRECTIVE LENSES|\n",
      "|14838670|1       |NONE                  |\n",
      "|14838685|1       |UNLICENSED            |\n",
      "+--------+--------+----------------------+\n",
      "only showing top 10 rows\n",
      "\n"
     ]
    }
   ],
   "source": [
    "df_restrict.show(10,False)"
   ]
  },
  {
   "cell_type": "code",
   "execution_count": 118,
   "metadata": {},
   "outputs": [
    {
     "name": "stdout",
     "output_type": "stream",
     "text": [
      "+--------+-------------------------+\n",
      "|crash_id|CONTRIB_FACTR_1_ID       |\n",
      "+--------+-------------------------+\n",
      "|14768622|UNDER INFLUENCE - ALCOHOL|\n",
      "|14838637|HAD BEEN DRINKING        |\n",
      "|14838668|UNDER INFLUENCE - ALCOHOL|\n",
      "|14838670|HAD BEEN DRINKING        |\n",
      "|14838693|UNDER INFLUENCE - ALCOHOL|\n",
      "+--------+-------------------------+\n",
      "only showing top 5 rows\n",
      "\n"
     ]
    }
   ],
   "source": [
    "#df_units.select(F.col('CONTRIB_FACTR_1_ID')).distinct().show(200,False)\n",
    "\n",
    "df_units.where(\"CONTRIB_FACTR_1_ID in ('UNDER INFLUENCE - ALCOHOL','HAD BEEN DRINKING')\").select(F.col(\"crash_id\"),F.col(\"CONTRIB_FACTR_1_ID\")).show(5,False)"
   ]
  },
  {
   "cell_type": "code",
   "execution_count": 17,
   "metadata": {},
   "outputs": [
    {
     "name": "stdout",
     "output_type": "stream",
     "text": [
      "+-------------------------+\n",
      "|PRSN_INJRY_SEV_ID        |\n",
      "+-------------------------+\n",
      "|NA                       |\n",
      "|KILLED                   |\n",
      "|UNKNOWN                  |\n",
      "|NON-INCAPACITATING INJURY|\n",
      "|NOT INJURED              |\n",
      "|POSSIBLE INJURY          |\n",
      "|INCAPACITATING INJURY    |\n",
      "+-------------------------+\n",
      "\n"
     ]
    }
   ],
   "source": [
    "#Analytics 1: Find the number of crashes (accidents) in which number of persons killed are male?\n",
    "import pyspark.sql.functions as F\n",
    "df_primary_person.select(F.col(\"PRSN_INJRY_SEV_ID\")).distinct().show(20,False)"
   ]
  },
  {
   "cell_type": "code",
   "execution_count": 28,
   "metadata": {},
   "outputs": [
    {
     "data": {
      "text/plain": [
       "180"
      ]
     },
     "execution_count": 28,
     "metadata": {},
     "output_type": "execute_result"
    }
   ],
   "source": [
    "#Ans 1:\n",
    "#No of Acc = 182, Distinct Acc = 180 (In 2 Acc, 2-2 Males died in crash_id '15429998','15379024')\n",
    "df_primary_person.where(\"PRSN_INJRY_SEV_ID = 'KILLED' and PRSN_GNDR_ID = 'MALE'\").select(F.col(\"CRASH_ID\")).distinct().count()"
   ]
  },
  {
   "cell_type": "code",
   "execution_count": 25,
   "metadata": {},
   "outputs": [],
   "source": [
    "df_primary_person.registerTempTable(\"person\")\n",
    "#where(\"PRSN_INJRY_SEV_ID = 'KILLED' and PRSN_GNDR_ID = 'MALE'\").groupby(F.col(\"CRASH_ID\")).having.distinct().show(100,False)"
   ]
  },
  {
   "cell_type": "code",
   "execution_count": 26,
   "metadata": {},
   "outputs": [
    {
     "name": "stdout",
     "output_type": "stream",
     "text": [
      "+--------+--------+\n",
      "|crash_id|count(1)|\n",
      "+--------+--------+\n",
      "|15429998|2       |\n",
      "|15379024|2       |\n",
      "+--------+--------+\n",
      "\n"
     ]
    }
   ],
   "source": [
    "spark.sql(\"select crash_id,count(1) from person where PRSN_INJRY_SEV_ID = 'KILLED' and PRSN_GNDR_ID = 'MALE' group by crash_id having count(1)>1\").show(10,False)"
   ]
  },
  {
   "cell_type": "code",
   "execution_count": 27,
   "metadata": {},
   "outputs": [
    {
     "name": "stdout",
     "output_type": "stream",
     "text": [
      "+--------+--------+--------+------------+-------------------------------------------------+-------------------------+--------+-----------------+------------+--------------+-------------------+--------------+--------------+-----------+---------------------+----------------+------------------+---------------------+----------------+-----------------+---------------+---------------+------------------+--------------+-------------+--------------+-------------+---------+----------------+-----------------+------------------+--------+\n",
      "|CRASH_ID|UNIT_NBR|PRSN_NBR|PRSN_TYPE_ID|PRSN_OCCPNT_POS_ID                               |PRSN_INJRY_SEV_ID        |PRSN_AGE|PRSN_ETHNICITY_ID|PRSN_GNDR_ID|PRSN_EJCT_ID  |PRSN_REST_ID       |PRSN_AIRBAG_ID|PRSN_HELMET_ID|PRSN_SOL_FL|PRSN_ALC_SPEC_TYPE_ID|PRSN_ALC_RSLT_ID|PRSN_BAC_TEST_RSLT|PRSN_DRG_SPEC_TYPE_ID|PRSN_DRG_RSLT_ID|DRVR_DRG_CAT_1_ID|PRSN_DEATH_TIME|INCAP_INJRY_CNT|NONINCAP_INJRY_CNT|POSS_INJRY_CNT|NON_INJRY_CNT|UNKN_INJRY_CNT|TOT_INJRY_CNT|DEATH_CNT|DRVR_LIC_TYPE_ID|DRVR_LIC_STATE_ID|DRVR_LIC_CLS_ID   |DRVR_ZIP|\n",
      "+--------+--------+--------+------------+-------------------------------------------------+-------------------------+--------+-----------------+------------+--------------+-------------------+--------------+--------------+-----------+---------------------+----------------+------------------+---------------------+----------------+-----------------+---------------+---------------+------------------+--------------+-------------+--------------+-------------+---------+----------------+-----------------+------------------+--------+\n",
      "|15379024|1       |1       |DRIVER      |FRONT LEFT                                       |NON-INCAPACITATING INJURY|31      |HISPANIC         |MALE        |NO            |SHOULDER & LAP BELT|NOT APPLICABLE|NOT APPLICABLE|N          |NONE                 |NA              |NA                |NONE                 |NOT APPLICABLE  |NOT APPLICABLE   |null           |0              |1                 |0             |0            |0             |1            |0        |DRIVER LICENSE  |Massachusetts    |OTHER/OUT OF STATE|75220   |\n",
      "|15379024|4       |1       |PEDESTRIAN  |PEDESTRIAN, PEDALCYCLIST, OR MOTORIZED CONVEYANCE|KILLED                   |37      |BLACK            |MALE        |NOT APPLICABLE|NOT APPLICABLE     |NOT APPLICABLE|NOT APPLICABLE|N          |BLOOD                |Negative        |0                 |BLOOD                |Negative        |NOT APPLICABLE   |20:00:00       |0              |0                 |0             |0            |0             |0            |1        |DRIVER LICENSE  |Texas            |CLASS C           |75224   |\n",
      "|15379024|5       |1       |PEDESTRIAN  |PEDESTRIAN, PEDALCYCLIST, OR MOTORIZED CONVEYANCE|KILLED                   |27      |WHITE            |MALE        |NOT APPLICABLE|NOT APPLICABLE     |NOT APPLICABLE|NOT APPLICABLE|N          |NONE                 |NA              |NA                |NONE                 |NOT APPLICABLE  |NOT APPLICABLE   |20:00:00       |0              |0                 |0             |0            |0             |0            |1        |DRIVER LICENSE  |Arkansas         |OTHER/OUT OF STATE|71836   |\n",
      "|15429998|1       |1       |DRIVER      |FRONT LEFT                                       |KILLED                   |41      |HISPANIC         |MALE        |NO            |NONE               |NOT DEPLOYED  |NOT APPLICABLE|N          |BLOOD                |Positive        |0.21              |NONE                 |NOT APPLICABLE  |NOT APPLICABLE   |00:50:00       |0              |0                 |0             |0            |0             |0            |1        |DRIVER LICENSE  |Texas            |CLASS C           |76513   |\n",
      "|15429998|2       |1       |DRIVER      |FRONT LEFT                                       |KILLED                   |31      |BLACK            |MALE        |NO            |UNKNOWN            |NOT DEPLOYED  |NOT APPLICABLE|N          |BLOOD                |NA              |NA                |BLOOD                |UNKNOWN         |UNKNOWN          |00:59:00       |0              |0                 |0             |0            |0             |0            |1        |DRIVER LICENSE  |Texas            |CLASS C           |76548   |\n",
      "+--------+--------+--------+------------+-------------------------------------------------+-------------------------+--------+-----------------+------------+--------------+-------------------+--------------+--------------+-----------+---------------------+----------------+------------------+---------------------+----------------+-----------------+---------------+---------------+------------------+--------------+-------------+--------------+-------------+---------+----------------+-----------------+------------------+--------+\n",
      "\n"
     ]
    }
   ],
   "source": [
    "df_primary_person.where(\"crash_id in ('15429998','15379024')\").show(10,False)\n",
    "PRSN_INJRY_SEV_ID"
   ]
  },
  {
   "cell_type": "code",
   "execution_count": 41,
   "metadata": {},
   "outputs": [
    {
     "data": {
      "text/plain": [
       "757"
      ]
     },
     "execution_count": 41,
     "metadata": {},
     "output_type": "execute_result"
    }
   ],
   "source": [
    "#Analysis 2: How many two wheelers are booked for crashes:\n",
    "\n",
    "df_units.where(\"VEH_BODY_STYL_ID in ('MOTORCYCLE','POLICE MOTORCYCLE')\").select(F.col(\"CRASH_ID\")).distinct().count()"
   ]
  },
  {
   "cell_type": "code",
   "execution_count": 42,
   "metadata": {},
   "outputs": [
    {
     "name": "stdout",
     "output_type": "stream",
     "text": [
      "+-----------------+-----+\n",
      "|DRVR_LIC_STATE_ID|count|\n",
      "+-----------------+-----+\n",
      "|Texas            |53319|\n",
      "+-----------------+-----+\n",
      "only showing top 1 row\n",
      "\n"
     ]
    }
   ],
   "source": [
    "#Analysis 3: Which state has highest number of accidents in which females are involved? \n",
    "df_primary_person.where(\"PRSN_GNDR_ID = 'FEMALE'\").groupby(F.col(\"DRVR_LIC_STATE_ID\")).count().distinct().sort(F.col('count').desc()).show(1,False)\n",
    "#select state_id,count(1) from person where person_dender = female group by LIC_state order by count(1) desc limit 1"
   ]
  },
  {
   "cell_type": "code",
   "execution_count": 82,
   "metadata": {},
   "outputs": [
    {
     "name": "stdout",
     "output_type": "stream",
     "text": [
      "+------------+\n",
      "|VEH_MAKE_ID |\n",
      "+------------+\n",
      "|NISSAN      |\n",
      "|HONDA       |\n",
      "|NA          |\n",
      "|GMC         |\n",
      "|JEEP        |\n",
      "|HYUNDAI     |\n",
      "|KIA         |\n",
      "|CHRYSLER    |\n",
      "|FREIGHTLINER|\n",
      "|MAZDA       |\n",
      "|LEXUS       |\n",
      "+------------+\n",
      "\n"
     ]
    }
   ],
   "source": [
    "#Analysis 4: Which are the Top 5th to 15th VEH_MAKE_IDs that \n",
    "#contribute to a largest number of injuries including death\n",
    "\n",
    "from pyspark.sql.window import Window\n",
    "\n",
    "df_req_units = df_units.select(F.col(\"VEH_MAKE_ID\"),F.col(\"CRASH_ID\"))\n",
    "#df_req_units.show(5,False)\n",
    "df_injured_person = df_primary_person.where(\"PRSN_INJRY_SEV_ID in ('KILLED','NON-INCAPACITATING INJURY','INCAPACITATING INJURY','POSSIBLE INJURY')\").select(F.col('CRASH_ID')).distinct()\n",
    "#df_injured_person.show(5,False)\n",
    "join_cond = [df_injured_person['crash_id'] == df_req_units['crash_id']]\n",
    "df_units_with_injury = df_req_units.join(df_injured_person, on = join_cond, how='inner').drop(df_req_units['crash_id'])\n",
    "df_req = df_units_with_injury.groupby(F.col(\"VEH_MAKE_ID\")).count().sort(F.col('count').desc())\n",
    "df_req_rnk = df_req.withColumn(\"crash_cnt\",F.row_number().over(Window.orderBy(F.col('count').desc())))\n",
    "df_req_rnk.where(\"crash_cnt between 5 and 15\").select(F.col('VEH_MAKE_ID')).show(15,False)\n",
    "\n",
    "#df_units_with_injury.show(50,False)\n"
   ]
  },
  {
   "cell_type": "code",
   "execution_count": 130,
   "metadata": {},
   "outputs": [
    {
     "name": "stdout",
     "output_type": "stream",
     "text": [
      "+---------------------------------+-----------------+\n",
      "|VEH_BODY_STYL_ID                 |PRSN_ETHNICITY_ID|\n",
      "+---------------------------------+-----------------+\n",
      "|BUS                              |HISPANIC         |\n",
      "|NA                               |WHITE            |\n",
      "|VAN                              |WHITE            |\n",
      "|PICKUP                           |WHITE            |\n",
      "|SPORT UTILITY VEHICLE            |WHITE            |\n",
      "|PASSENGER CAR, 4-DOOR            |WHITE            |\n",
      "|FIRE TRUCK                       |WHITE            |\n",
      "|TRUCK                            |WHITE            |\n",
      "|UNKNOWN                          |UNKNOWN          |\n",
      "|AMBULANCE                        |WHITE            |\n",
      "|POLICE CAR/TRUCK                 |WHITE            |\n",
      "|MOTORCYCLE                       |WHITE            |\n",
      "|YELLOW SCHOOL BUS                |WHITE            |\n",
      "|POLICE MOTORCYCLE                |HISPANIC         |\n",
      "|PASSENGER CAR, 2-DOOR            |WHITE            |\n",
      "|TRUCK TRACTOR                    |WHITE            |\n",
      "|FARM EQUIPMENT                   |WHITE            |\n",
      "|NEV-NEIGHBORHOOD ELECTRIC VEHICLE|WHITE            |\n",
      "|OTHER  (EXPLAIN IN NARRATIVE)    |WHITE            |\n",
      "|NOT REPORTED                     |HISPANIC         |\n",
      "+---------------------------------+-----------------+\n",
      "\n"
     ]
    }
   ],
   "source": [
    "#Analysis 5: For all the body styles involved in crashes, \n",
    "#mention the top ethnic user group of each unique body style  \n",
    "windowDept = Window.partitionBy(F.col('VEH_BODY_STYL_ID')).orderBy(F.col(\"count\").desc())\n",
    "\n",
    "df_person_with_ethnicity = df_primary_person.select(F.col('CRASH_ID'),F.col('PRSN_ETHNICITY_ID')).distinct()\n",
    "df_req_units = df_units.select(F.col(\"VEH_BODY_STYL_ID\"),F.col(\"CRASH_ID\"))\n",
    "join_cond = [df_person_with_ethnicity['crash_id'] == df_req_units['crash_id']]\n",
    "df_units_with_ethnicity = df_req_units.join(df_person_with_ethnicity, on = join_cond, how='inner').drop(df_req_units['crash_id'])\n",
    "df_rnked = df_units_with_ethnicity.groupby(F.col('VEH_BODY_STYL_ID'),F.col('PRSN_ETHNICITY_ID')).count().sort(F.col('VEH_BODY_STYL_ID'),F.col('count').desc())\n",
    "df_req = df_rnked.withColumn(\"body_type_rnk\",F.row_number().over(windowDept))\n",
    "#df_req.show(100,False)\n",
    "df_res = df_req.where(\"body_type_rnk = 1\").select(F.col('VEH_BODY_STYL_ID'),F.col('PRSN_ETHNICITY_ID'))\n",
    "df_res.show(50,False)"
   ]
  },
  {
   "cell_type": "code",
   "execution_count": 160,
   "metadata": {},
   "outputs": [
    {
     "name": "stdout",
     "output_type": "stream",
     "text": [
      "+--------+-----+\n",
      "|DRVR_ZIP|count|\n",
      "+--------+-----+\n",
      "|null    |347  |\n",
      "|78521   |75   |\n",
      "|75067   |57   |\n",
      "|78753   |55   |\n",
      "|75070   |52   |\n",
      "+--------+-----+\n",
      "only showing top 5 rows\n",
      "\n"
     ]
    }
   ],
   "source": [
    "#Analysis 6: Among the crashed cars, what are the Top 5 Zip Codes with highest number crashes \n",
    "#with alcohols as the contributing factor to a crash (Use Driver Zip Code)\n",
    "\n",
    "df_alc_crashes = df_units.where(\"VEH_BODY_STYL_ID in ('PASSENGER CAR, 2-DOOR','POLICE CAR/TRUCK','PASSENGER CAR, 4-DOOR','SPORT UTILITY VEHICLE')\").where(\"CONTRIB_FACTR_1_ID in ('UNDER INFLUENCE - ALCOHOL','HAD BEEN DRINKING') or CONTRIB_FACTR_2_ID in ('UNDER INFLUENCE - ALCOHOL','HAD BEEN DRINKING') or CONTRIB_FACTR_P1_ID in ('UNDER INFLUENCE - ALCOHOL','HAD BEEN DRINKING')\").select(F.col(\"crash_id\"),F.col('VEH_BODY_STYL_ID'))\n",
    "#df_alc_crashes.show(10,False)\n",
    "df_person_with_zip = df_primary_person.select(F.col(\"crash_id\"),F.col('DRVR_ZIP'))\n",
    "join_cond = [df_alc_crashes['crash_id'] == df_person_with_zip['crash_id']]\n",
    "df_req = df_alc_crashes.join(df_person_with_zip, on = join_cond, how='inner').drop(df_person_with_zip['crash_id'])\n",
    "#df_req.show(15,False)\n",
    "df_res = df_req.groupby(F.col('DRVR_ZIP')).count()\n",
    "df_res.sort(F.col('count').desc()).show(5,False)\n",
    "\n",
    "#df_primary_person.select(F.col('PRSN_ALC_RSLT_ID')).distinct().show(10,False)"
   ]
  },
  {
   "cell_type": "code",
   "execution_count": 180,
   "metadata": {},
   "outputs": [
    {
     "data": {
      "text/plain": [
       "8849"
      ]
     },
     "execution_count": 180,
     "metadata": {},
     "output_type": "execute_result"
    }
   ],
   "source": [
    "#Analysis 7: Count of Distinct Crash IDs where No Damaged Property was observed \n",
    "#and Damage Level (VEH_DMAG_SCL~) is above 4 \n",
    "#and car avails Insurance\n",
    "\n",
    "df_damage_cid = df_damages.select(F.col('crash_id')).distinct()\n",
    "df_unit_dmg_lvl = df_units.where(\"VEH_DMAG_SCL_1_ID in('DAMAGED 5','DAMAGED 6','DAMAGED 7 HIGHEST') or VEH_DMAG_SCL_2_ID in('DAMAGED 5','DAMAGED 6','DAMAGED 7 HIGHEST')\")\n",
    "df_unit_with_insurance = df_unit_dmg_lvl.where(\"FIN_RESP_TYPE_ID like '%INSURANCE%'\").select(F.col('crash_id'),F.col('VEH_DMAG_SCL_1_ID'),F.col('VEH_DMAG_SCL_2_ID'),F.col('FIN_RESP_TYPE_ID'))\n",
    "join_cond = [df_unit_with_insurance['crash_id'] == df_damage_cid['crash_id']]\n",
    "df_req = df_unit_with_insurance.join(df_damage_cid, on = join_cond, how='left_anti').distinct()#.drop(df_person_with_zip['crash_id'])\n",
    "df_req.select(F.col('crash_id')).distinct().count()\n",
    "\n",
    "#df_damage_cid.where(\"crash_id in ('14839240','14839343','14839510','14840005')\").show()"
   ]
  },
  {
   "cell_type": "code",
   "execution_count": 174,
   "metadata": {},
   "outputs": [
    {
     "name": "stdout",
     "output_type": "stream",
     "text": [
      "+-----------------------------+\n",
      "|FIN_RESP_TYPE_ID             |\n",
      "+-----------------------------+\n",
      "|INSURANCE BINDER             |\n",
      "|LIABILITY INSURANCE POLICY   |\n",
      "|CERTIFICATE OF SELF-INSURANCE|\n",
      "|PROOF OF LIABILITY INSURANCE |\n",
      "+-----------------------------+\n",
      "\n"
     ]
    }
   ],
   "source": [
    "df_units.where(\"FIN_RESP_TYPE_ID like '%INSURANCE%'\").select(F.col('FIN_RESP_TYPE_ID')).distinct().show(10,False)"
   ]
  },
  {
   "cell_type": "code",
   "execution_count": 218,
   "metadata": {},
   "outputs": [
    {
     "name": "stdout",
     "output_type": "stream",
     "text": [
      "+-----------+\n",
      "|VEH_MAKE_ID|\n",
      "+-----------+\n",
      "|FORD       |\n",
      "|CHEVROLET  |\n",
      "|TOYOTA     |\n",
      "|DODGE      |\n",
      "|NISSAN     |\n",
      "+-----------+\n",
      "\n"
     ]
    }
   ],
   "source": [
    "#Analysis 8: Determine the Top 5 Vehicle Makes where drivers are charged with speeding related offences, \n",
    "#has licensed Drivers, \n",
    "#uses top 10 used vehicle colours \n",
    "#and has car licensed with the Top 25 states with highest number of offences (to be deduced from the data)\n",
    "\n",
    "#Getting crashes where charge was speeding related:\n",
    "df_speeding_charge = df_charges.where(\"charge like '%SPEED%'\").select(F.col('crash_id'),F.col('CHARGE'))\n",
    "\n",
    "#Getting the top 25 states with highest number of offences:\n",
    "df_top_state = df_primary_person.groupby(F.col('DRVR_LIC_STATE_ID')).count()\n",
    "df_rnk_state = df_top_state.withColumn('state_rnk',F.row_number().over(Window.orderBy(F.col('count').desc())))\n",
    "df_rnk_state_req = df_rnk_state.where(\"state_rnk <= 25\").select(F.col('DRVR_LIC_STATE_ID'))\n",
    "#df_rnk_state_req.show(10,False)\n",
    "\n",
    "#Getting Licensed Drivers:\n",
    "df_lic_drvr = df_primary_person.where(\"DRVR_LIC_TYPE_ID in ('COMMERCIAL DRIVER LIC.','DRIVER LICENSE')\").select(F.col('crash_id'),F.col('DRVR_LIC_STATE_ID'),F.col('DRVR_LIC_TYPE_ID'))\n",
    "\n",
    "#Getting Licensed Drivers those have car licensed with the Top 25 states with highest number of offences:\n",
    "df_lic_drvr_top_state = df_lic_drvr.join(df_rnk_state_req, on = [df_lic_drvr['DRVR_LIC_STATE_ID'] == df_rnk_state_req['DRVR_LIC_STATE_ID']],how = 'inner').drop(df_rnk_state_req['DRVR_LIC_STATE_ID'])\n",
    "#df_lic_drvr_top_state.show(10,False)\n",
    "\n",
    "#Getting Licensed Drivers from Top states with speeding related charges:\n",
    "drvr_speed_cond = [df_lic_drvr_top_state['crash_id'] == df_speeding_charge['crash_id']]\n",
    "df_lic_drvr_speeding = df_lic_drvr_top_state.join(df_speeding_charge, on = drvr_speed_cond, how = 'inner').drop(df_speeding_charge['crash_id'])\n",
    "#df_lic_drvr_speeding.show(15,False)\n",
    "\n",
    "#Getting the top 10 used vehicles colours:\n",
    "df_top_clr_vhcl = df_units.groupby(F.col('VEH_COLOR_ID')).count()\n",
    "df_rnk_clr = df_top_clr_vhcl.withColumn('clr_rnk',F.row_number().over(Window.orderBy(F.col('count').desc())))\n",
    "df_rnk_clr_req = df_rnk_clr.where(\"clr_rnk <= 10\").select(F.col('VEH_COLOR_ID'))\n",
    "#df_rnk_clr_req.show(10,False)\n",
    "\n",
    "#Getting crash_ids where the colour of car was in top 10 used vehicles colours:\n",
    "df_units_req = df_units.join(df_rnk_clr_req, on = [df_units['VEH_COLOR_ID'] == df_rnk_clr_req['VEH_COLOR_ID']], how = 'inner').drop(df_rnk_clr_req['VEH_COLOR_ID'])\n",
    "df_units_top_clr = df_units_req.select(F.col('crash_id'),F.col('VEH_COLOR_ID'),F.col('VEH_MAKE_ID'))\n",
    "#df_units_top_clr.show(10,False)\n",
    "\n",
    "#Getting licensed speedy drivers from Top states driving top coloured cars:\n",
    "drvr_clr_cond = [df_lic_drvr_speeding['crash_id'] == df_units_top_clr['crash_id']]\n",
    "df_req = df_lic_drvr_speeding.join(df_units_top_clr, on = drvr_clr_cond,how = 'inner')\n",
    "\n",
    "#Getting the Top Vehicle Makers:\n",
    "df_veh_req = df_req.groupby(F.col('VEH_MAKE_ID')).count()\n",
    "df_veh_req_rnk = df_veh_req.withColumn('veh_rnk',F.row_number().over(Window.orderBy(F.col('count').desc())))\n",
    "df_veh_req_rnk.where(\"veh_rnk <= 5\").select(F.col('VEH_MAKE_ID')).show(10,False)\n",
    "\n",
    "\n",
    "\n"
   ]
  },
  {
   "cell_type": "code",
   "execution_count": 215,
   "metadata": {},
   "outputs": [
    {
     "name": "stdout",
     "output_type": "stream",
     "text": [
      "+-----------------------------+\n",
      "|VEH_MAKE_ID                  |\n",
      "+-----------------------------+\n",
      "|UNITED EXPRESS LINE INC      |\n",
      "|UTILIMASTER                  |\n",
      "|AMERICAN IRON HORSE          |\n",
      "|ACURA                        |\n",
      "|NOVA                         |\n",
      "|FRUEHAUF                     |\n",
      "|WHITE                        |\n",
      "|MOTOR COACH MND INC          |\n",
      "|MCLAREN                      |\n",
      "|PIERCE                       |\n",
      "|PORSCHE                      |\n",
      "|WHITEGMC                     |\n",
      "|FREIGHTLINER                 |\n",
      "|BUELL                        |\n",
      "|STERLING                     |\n",
      "|HYUNDAI                      |\n",
      "|INTERNATIONAL                |\n",
      "|PETER PIRSCH & SONS          |\n",
      "|FIAT                         |\n",
      "|GILLIG                       |\n",
      "|NA                           |\n",
      "|MIDLAND MANUFACTURING LIMITED|\n",
      "|DATSUN                       |\n",
      "|CAN-AM                       |\n",
      "|HYUNDAI STEEL INDUSTRIES     |\n",
      "+-----------------------------+\n",
      "only showing top 25 rows\n",
      "\n"
     ]
    }
   ],
   "source": [
    "#Getting the top 10 used vehicals colours:\n",
    "df_top_clr_vhcl = df_units.groupby(F.col('VEH_COLOR_ID')).count()\n",
    "df_rnk_clr = df_top_clr_vhcl.withColumn('clr_rnk',F.row_number().over(Window.orderBy(F.col('count').desc())))\n",
    "df_rnk_clr_req = df_rnk_clr.where(\"clr_rnk <= 10\").select(F.col('VEH_COLOR_ID'))\n",
    "#df_rnk_clr_req.show(10,False)\n",
    "\n",
    "#Getting crash_ids where the colour of car was in top 10 used vehicals colours:\n",
    "df_units_req = df_units.join(df_rnk_clr_req, on = [df_units['VEH_COLOR_ID'] == df_rnk_clr_req['VEH_COLOR_ID']], how = 'inner').drop(df_rnk_clr_req['VEH_COLOR_ID'])\n",
    "df_units_top_clr = df_units_req.select(F.col('crash_id'),F.col('VEH_COLOR_ID'))\n",
    "#df_units_top_clr.show(10,False)\n",
    "\n",
    "df_units.select('VEH_MAKE_ID').distinct().show(25,False)"
   ]
  },
  {
   "cell_type": "code",
   "execution_count": null,
   "metadata": {},
   "outputs": [],
   "source": []
  }
 ],
 "metadata": {
  "kernelspec": {
   "display_name": "Python 3",
   "language": "python",
   "name": "python3"
  },
  "language_info": {
   "codemirror_mode": {
    "name": "ipython",
    "version": 3
   },
   "file_extension": ".py",
   "mimetype": "text/x-python",
   "name": "python",
   "nbconvert_exporter": "python",
   "pygments_lexer": "ipython3",
   "version": "3.7.4"
  }
 },
 "nbformat": 4,
 "nbformat_minor": 2
}
